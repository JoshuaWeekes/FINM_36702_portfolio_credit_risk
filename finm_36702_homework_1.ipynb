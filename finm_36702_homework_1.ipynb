{
 "cells": [
  {
   "cell_type": "markdown",
   "metadata": {},
   "source": [
    "# Finmath 36702, Portfolio Credit Loss, Assignment 1\n",
    "\n",
    "#### Joshua Weekes"
   ]
  },
  {
   "cell_type": "markdown",
   "metadata": {},
   "source": [
    "## Package Imports"
   ]
  },
  {
   "cell_type": "code",
   "execution_count": 50,
   "metadata": {},
   "outputs": [],
   "source": [
    "import random\n",
    "import pandas as pd\n",
    "import numpy as np\n",
    "import matplotlib.pyplot as plt\n",
    "import statsmodels.api as sm"
   ]
  },
  {
   "cell_type": "markdown",
   "metadata": {},
   "source": [
    "## Problem 1"
   ]
  },
  {
   "cell_type": "code",
   "execution_count": 51,
   "metadata": {},
   "outputs": [],
   "source": [
    "np.random.seed(99)\n",
    "\n",
    "samples = 10000\n",
    "record_size = 20\n",
    "variables = 10\n",
    "\n",
    "rho = 0.3\n",
    "\n",
    "cov_matrix = np.eye(variables)\n",
    "cov_matrix[:variables-1, variables-1] = rho\n",
    "cov_matrix[variables-1, :variables-1] = rho\n",
    "\n",
    "decomposed = np.linalg.cholesky(cov_matrix)\n",
    "\n",
    "ind_normals = np.random.randn(samples, record_size, variables)\n",
    "\n",
    "correlated_normals = ind_normals @ decomposed.T\n",
    "\n",
    "corr_normals_swapped = np.swapaxes(correlated_normals, 1, 2)"
   ]
  },
  {
   "cell_type": "code",
   "execution_count": 52,
   "metadata": {},
   "outputs": [],
   "source": [
    "betas = np.zeros((variables-1, samples))\n",
    "r_squared = np.zeros((variables-1, samples))\n",
    "mse = np.zeros((variables-1, samples))\n",
    "null_model_mse = np.zeros((samples))\n",
    "\n",
    "for i in range(samples):\n",
    "    y = corr_normals_swapped[i, -1, :]\n",
    "    null_model_mse[i] = ((y - y.mean()) ** 2).mean()\n",
    "\n",
    "    for j in range(variables-1):\n",
    "        x = corr_normals_swapped[i, j, :]\n",
    "        # x = sm.add_constant(x)\n",
    "        model = sm.OLS(y, x)\n",
    "        betas[j, i] = model.fit().params[0]\n",
    "        r_squared[j, i] = model.fit().rsquared\n",
    "        predictions = model.fit().predict(x)\n",
    "        mse[j, i] = ((predictions - y) ** 2).mean()"
   ]
  },
  {
   "cell_type": "code",
   "execution_count": 53,
   "metadata": {},
   "outputs": [],
   "source": [
    "labels = [f'X_{i}' for i in range(1, variables)]\n",
    "labels_betas = [f'Beta_{i}' for i in range(1, variables)]\n",
    "labels_r_squared = [f'R^2_{i}' for i in range(1, variables)]\n",
    "labels_mse = [f'MSE_{i}' for i in range(1, variables)]"
   ]
  },
  {
   "cell_type": "code",
   "execution_count": 54,
   "metadata": {},
   "outputs": [],
   "source": [
    "betas_df = pd.DataFrame(betas.T, columns=labels_betas)\n",
    "r_squared_df = pd.DataFrame(r_squared.T, columns=labels_r_squared)\n",
    "mse_df = pd.DataFrame(mse.T, columns=labels_mse)"
   ]
  },
  {
   "cell_type": "code",
   "execution_count": 55,
   "metadata": {},
   "outputs": [],
   "source": [
    "def get_max_r2_beta(row, max_index=10):\n",
    "    r2_values = row[[f'R^2_{i}' for i in range(1, max_index)]].values\n",
    "    max_r2_index = np.argmax(r2_values)\n",
    "    beta_value = row[f'Beta_{max_r2_index + 1}']\n",
    "    \n",
    "    return beta_value"
   ]
  },
  {
   "cell_type": "code",
   "execution_count": 56,
   "metadata": {},
   "outputs": [],
   "source": [
    "combined_df = pd.concat([betas_df, r_squared_df], axis=1)\n",
    "\n",
    "combined_df.loc[:, 'Proc_1'] = betas_df.loc[:, 'Beta_1']\n",
    "combined_df.loc[:, 'Proc_2'] = combined_df.apply(get_max_r2_beta, args=[3], axis=1)\n",
    "combined_df.loc[:, 'Proc_3'] = combined_df.apply(get_max_r2_beta, axis=1)"
   ]
  },
  {
   "cell_type": "code",
   "execution_count": 57,
   "metadata": {},
   "outputs": [
    {
     "data": {
      "text/html": [
       "<div>\n",
       "<style scoped>\n",
       "    .dataframe tbody tr th:only-of-type {\n",
       "        vertical-align: middle;\n",
       "    }\n",
       "\n",
       "    .dataframe tbody tr th {\n",
       "        vertical-align: top;\n",
       "    }\n",
       "\n",
       "    .dataframe thead th {\n",
       "        text-align: right;\n",
       "    }\n",
       "</style>\n",
       "<table border=\"1\" class=\"dataframe\">\n",
       "  <thead>\n",
       "    <tr style=\"text-align: right;\">\n",
       "      <th></th>\n",
       "      <th>Average Slope</th>\n",
       "      <th>Estimated Bias</th>\n",
       "    </tr>\n",
       "  </thead>\n",
       "  <tbody>\n",
       "    <tr>\n",
       "      <th>Procedure 1</th>\n",
       "      <td>0.3021</td>\n",
       "      <td>0.0021</td>\n",
       "    </tr>\n",
       "    <tr>\n",
       "      <th>Procedure 2</th>\n",
       "      <td>0.4094</td>\n",
       "      <td>0.1094</td>\n",
       "    </tr>\n",
       "    <tr>\n",
       "      <th>Procedure 3</th>\n",
       "      <td>0.5678</td>\n",
       "      <td>0.2678</td>\n",
       "    </tr>\n",
       "  </tbody>\n",
       "</table>\n",
       "</div>"
      ],
      "text/plain": [
       "             Average Slope  Estimated Bias\n",
       "Procedure 1         0.3021          0.0021\n",
       "Procedure 2         0.4094          0.1094\n",
       "Procedure 3         0.5678          0.2678"
      ]
     },
     "execution_count": 57,
     "metadata": {},
     "output_type": "execute_result"
    }
   ],
   "source": [
    "procedure_labels = [f'Procedure {i}' for i in range(1, 4)]\n",
    "procedure_labels\n",
    "\n",
    "avg_slope = []\n",
    "est_bias = []\n",
    "for i in range(3):\n",
    "    avg_slope.append(combined_df.loc[:, f'Proc_{i + 1}'].mean())\n",
    "    est_bias.append(avg_slope[i] - 0.3)\n",
    "\n",
    "question_1_results = pd.DataFrame({'Average Slope': avg_slope, 'Estimated Bias': est_bias}, \n",
    "                       index=procedure_labels)\n",
    "\n",
    "pd.set_option('display.float_format', '{:.4f}'.format)\n",
    "question_1_results"
   ]
  },
  {
   "cell_type": "markdown",
   "metadata": {},
   "source": [
    "## Problem 2"
   ]
  },
  {
   "cell_type": "code",
   "execution_count": 58,
   "metadata": {},
   "outputs": [],
   "source": [
    "def get_max_r2_mse(row, max_index=10):\n",
    "    r2_values = row[[f'R^2_{i}' for i in range(1, max_index)]].values\n",
    "    max_r2_index = np.argmax(r2_values)\n",
    "    mse = row[f'MSE_{max_r2_index + 1}']\n",
    "    \n",
    "    return mse"
   ]
  },
  {
   "cell_type": "code",
   "execution_count": 59,
   "metadata": {},
   "outputs": [],
   "source": [
    "mse_combined_df = pd.concat([mse_df, r_squared_df], axis=1)\n",
    "\n",
    "mse_combined_df.loc[:, 'Proc_0'] = null_model_mse\n",
    "mse_combined_df.loc[:, 'Proc_1'] = mse_df.loc[:, 'MSE_1']\n",
    "mse_combined_df.loc[:, 'Proc_2'] = mse_combined_df.apply(get_max_r2_mse, args=[3], axis=1)\n",
    "mse_combined_df.loc[:, 'Proc_3'] = mse_combined_df.apply(get_max_r2_mse, axis=1)"
   ]
  },
  {
   "cell_type": "code",
   "execution_count": 60,
   "metadata": {},
   "outputs": [
    {
     "data": {
      "text/html": [
       "<div>\n",
       "<style scoped>\n",
       "    .dataframe tbody tr th:only-of-type {\n",
       "        vertical-align: middle;\n",
       "    }\n",
       "\n",
       "    .dataframe tbody tr th {\n",
       "        vertical-align: top;\n",
       "    }\n",
       "\n",
       "    .dataframe thead th {\n",
       "        text-align: right;\n",
       "    }\n",
       "</style>\n",
       "<table border=\"1\" class=\"dataframe\">\n",
       "  <thead>\n",
       "    <tr style=\"text-align: right;\">\n",
       "      <th></th>\n",
       "      <th>Avereage ESE</th>\n",
       "    </tr>\n",
       "  </thead>\n",
       "  <tbody>\n",
       "    <tr>\n",
       "      <th>Procedure 0</th>\n",
       "      <td>9.556e-01</td>\n",
       "    </tr>\n",
       "    <tr>\n",
       "      <th>Procedure 1</th>\n",
       "      <td>8.681e-01</td>\n",
       "    </tr>\n",
       "    <tr>\n",
       "      <th>Procedure 2</th>\n",
       "      <td>7.992e-01</td>\n",
       "    </tr>\n",
       "    <tr>\n",
       "      <th>Procedure 3</th>\n",
       "      <td>6.473e-01</td>\n",
       "    </tr>\n",
       "  </tbody>\n",
       "</table>\n",
       "</div>"
      ],
      "text/plain": [
       "             Avereage ESE\n",
       "Procedure 0     9.556e-01\n",
       "Procedure 1     8.681e-01\n",
       "Procedure 2     7.992e-01\n",
       "Procedure 3     6.473e-01"
      ]
     },
     "execution_count": 60,
     "metadata": {},
     "output_type": "execute_result"
    }
   ],
   "source": [
    "procedure_labels_q2 = [f'Procedure {i}' for i in range(4)]\n",
    "procedure_labels_q2\n",
    "\n",
    "avg_mse = []\n",
    "for i in range(4):\n",
    "    avg_mse.append(mse_combined_df.loc[:, f'Proc_{i}'].mean())\n",
    "\n",
    "question_2_results = pd.DataFrame({'Avereage ESE': avg_mse}, \n",
    "                       index=procedure_labels_q2)\n",
    "\n",
    "pd.set_option('display.float_format', '{:.3e}'.format)\n",
    "question_2_results"
   ]
  },
  {
   "cell_type": "markdown",
   "metadata": {},
   "source": [
    "Not sure why I'm getting that procedure 3 is the best."
   ]
  },
  {
   "cell_type": "markdown",
   "metadata": {},
   "source": [
    "## Problem 3"
   ]
  },
  {
   "cell_type": "code",
   "execution_count": 61,
   "metadata": {},
   "outputs": [],
   "source": [
    "def simulate_regressions_rho_list(rho_values, n_samples=1000, sample_size=25):\n",
    "    results = []\n",
    "\n",
    "    for rho in rho_values:\n",
    "        # Set up the covariance matrix based on rho\n",
    "        cov_matrix = np.array([[1, rho], [rho, 1]])\n",
    "        \n",
    "        # Variables to keep track of slope coefficients and significance\n",
    "        slopes = []\n",
    "        significant_slopes = []\n",
    "        significant_count = 0\n",
    "        \n",
    "        for _ in range(n_samples):\n",
    "            # Generate bivariate normal distributions\n",
    "            x, y = np.random.multivariate_normal([0, 0], cov_matrix, size=sample_size).T\n",
    "            \n",
    "            # Adding constant to X for OLS regression\n",
    "            X_with_const = sm.add_constant(x)\n",
    "            model = sm.OLS(y, X_with_const).fit()\n",
    "            slope_coeff = model.params[1]\n",
    "            p_value = model.pvalues[1]\n",
    "            \n",
    "            slopes.append(slope_coeff)\n",
    "            if p_value < 0.05:\n",
    "                significant_count += 1\n",
    "                significant_slopes.append(slope_coeff)\n",
    "                \n",
    "        # Calculate bias of significant slopes (if any) and fraction of significant regressions\n",
    "        avg_slope = np.mean(slopes)\n",
    "        bias = (np.mean(significant_slopes - rho)) if significant_count else None\n",
    "        fraction_significant = significant_count / n_samples\n",
    "        \n",
    "        results.append({\n",
    "            'rho': rho,\n",
    "            'bias_of_significant_slopes': bias,\n",
    "            'fraction_significant': fraction_significant,\n",
    "            'avg_slope': avg_slope\n",
    "        })\n",
    "        \n",
    "    return pd.DataFrame(results)"
   ]
  },
  {
   "cell_type": "code",
   "execution_count": 62,
   "metadata": {},
   "outputs": [
    {
     "data": {
      "text/html": [
       "<div>\n",
       "<style scoped>\n",
       "    .dataframe tbody tr th:only-of-type {\n",
       "        vertical-align: middle;\n",
       "    }\n",
       "\n",
       "    .dataframe tbody tr th {\n",
       "        vertical-align: top;\n",
       "    }\n",
       "\n",
       "    .dataframe thead th {\n",
       "        text-align: right;\n",
       "    }\n",
       "</style>\n",
       "<table border=\"1\" class=\"dataframe\">\n",
       "  <thead>\n",
       "    <tr style=\"text-align: right;\">\n",
       "      <th></th>\n",
       "      <th>rho</th>\n",
       "      <th>bias_of_significant_slopes</th>\n",
       "      <th>fraction_significant</th>\n",
       "      <th>avg_slope</th>\n",
       "    </tr>\n",
       "  </thead>\n",
       "  <tbody>\n",
       "    <tr>\n",
       "      <th>0</th>\n",
       "      <td>0.0000</td>\n",
       "      <td>-0.0183</td>\n",
       "      <td>0.0535</td>\n",
       "      <td>-0.0035</td>\n",
       "    </tr>\n",
       "    <tr>\n",
       "      <th>1</th>\n",
       "      <td>0.1000</td>\n",
       "      <td>0.2981</td>\n",
       "      <td>0.0744</td>\n",
       "      <td>0.0978</td>\n",
       "    </tr>\n",
       "    <tr>\n",
       "      <th>2</th>\n",
       "      <td>0.2000</td>\n",
       "      <td>0.2809</td>\n",
       "      <td>0.1664</td>\n",
       "      <td>0.2023</td>\n",
       "    </tr>\n",
       "    <tr>\n",
       "      <th>3</th>\n",
       "      <td>0.3000</td>\n",
       "      <td>0.2065</td>\n",
       "      <td>0.3174</td>\n",
       "      <td>0.3027</td>\n",
       "    </tr>\n",
       "    <tr>\n",
       "      <th>4</th>\n",
       "      <td>0.4000</td>\n",
       "      <td>0.1355</td>\n",
       "      <td>0.5263</td>\n",
       "      <td>0.4003</td>\n",
       "    </tr>\n",
       "    <tr>\n",
       "      <th>5</th>\n",
       "      <td>0.5000</td>\n",
       "      <td>0.0714</td>\n",
       "      <td>0.7506</td>\n",
       "      <td>0.5002</td>\n",
       "    </tr>\n",
       "    <tr>\n",
       "      <th>6</th>\n",
       "      <td>0.6000</td>\n",
       "      <td>0.0249</td>\n",
       "      <td>0.9135</td>\n",
       "      <td>0.5980</td>\n",
       "    </tr>\n",
       "    <tr>\n",
       "      <th>7</th>\n",
       "      <td>0.7000</td>\n",
       "      <td>0.0057</td>\n",
       "      <td>0.9842</td>\n",
       "      <td>0.6998</td>\n",
       "    </tr>\n",
       "    <tr>\n",
       "      <th>8</th>\n",
       "      <td>0.8000</td>\n",
       "      <td>-0.0018</td>\n",
       "      <td>0.9994</td>\n",
       "      <td>0.7979</td>\n",
       "    </tr>\n",
       "    <tr>\n",
       "      <th>9</th>\n",
       "      <td>0.9000</td>\n",
       "      <td>-0.0005</td>\n",
       "      <td>1.0000</td>\n",
       "      <td>0.8995</td>\n",
       "    </tr>\n",
       "  </tbody>\n",
       "</table>\n",
       "</div>"
      ],
      "text/plain": [
       "     rho  bias_of_significant_slopes  fraction_significant  avg_slope\n",
       "0 0.0000                     -0.0183                0.0535    -0.0035\n",
       "1 0.1000                      0.2981                0.0744     0.0978\n",
       "2 0.2000                      0.2809                0.1664     0.2023\n",
       "3 0.3000                      0.2065                0.3174     0.3027\n",
       "4 0.4000                      0.1355                0.5263     0.4003\n",
       "5 0.5000                      0.0714                0.7506     0.5002\n",
       "6 0.6000                      0.0249                0.9135     0.5980\n",
       "7 0.7000                      0.0057                0.9842     0.6998\n",
       "8 0.8000                     -0.0018                0.9994     0.7979\n",
       "9 0.9000                     -0.0005                1.0000     0.8995"
      ]
     },
     "execution_count": 62,
     "metadata": {},
     "output_type": "execute_result"
    }
   ],
   "source": [
    "rho_values = np.arange(0, 1, 0.1)\n",
    "pd.set_option('display.float_format', '{:.4f}'.format)\n",
    "df_results_question3 = simulate_regressions_rho_list(rho_values, n_samples=10000)  # Reduced for performance\n",
    "df_results_question3"
   ]
  },
  {
   "cell_type": "markdown",
   "metadata": {},
   "source": [
    "## Problem 4"
   ]
  },
  {
   "cell_type": "code",
   "execution_count": 63,
   "metadata": {},
   "outputs": [],
   "source": [
    "def calculate_ese(rho, sample_size, n_samples=10000):\n",
    "    ese_null = []\n",
    "    ese_regression = []\n",
    "    \n",
    "    for _ in range(n_samples):\n",
    "        cov_matrix = np.array([[1, rho], [rho, 1]])\n",
    "        x, y = np.random.multivariate_normal([0, 0], cov_matrix, size=sample_size).T\n",
    "        \n",
    "        null_forecast = np.mean(y)\n",
    "        ese_null_sample = np.mean((y - null_forecast) ** 2)\n",
    "        \n",
    "        X_with_const = sm.add_constant(x)\n",
    "        model = sm.OLS(y, X_with_const).fit()\n",
    "        intercept = model.params[0]\n",
    "        slope_coeff = model.params[1]\n",
    "\n",
    "        regression_forecast = intercept + slope_coeff * x\n",
    "        ese_regression_sample = np.mean((y - regression_forecast) ** 2)\n",
    "        \n",
    "        ese_null.append(ese_null_sample)\n",
    "        ese_regression.append(ese_regression_sample)\n",
    "    \n",
    "    avg_ese_null = np.mean(ese_null)\n",
    "    avg_ese_regression = np.mean(ese_regression)\n",
    "    \n",
    "    return avg_ese_null, avg_ese_regression\n"
   ]
  },
  {
   "cell_type": "code",
   "execution_count": 64,
   "metadata": {},
   "outputs": [
    {
     "data": {
      "text/html": [
       "<div>\n",
       "<style scoped>\n",
       "    .dataframe tbody tr th:only-of-type {\n",
       "        vertical-align: middle;\n",
       "    }\n",
       "\n",
       "    .dataframe tbody tr th {\n",
       "        vertical-align: top;\n",
       "    }\n",
       "\n",
       "    .dataframe thead th {\n",
       "        text-align: right;\n",
       "    }\n",
       "</style>\n",
       "<table border=\"1\" class=\"dataframe\">\n",
       "  <thead>\n",
       "    <tr style=\"text-align: right;\">\n",
       "      <th></th>\n",
       "      <th>N</th>\n",
       "      <th>Average ESE Null</th>\n",
       "      <th>Average ESE Regression</th>\n",
       "    </tr>\n",
       "  </thead>\n",
       "  <tbody>\n",
       "    <tr>\n",
       "      <th>0</th>\n",
       "      <td>10</td>\n",
       "      <td>0.8956</td>\n",
       "      <td>0.7272</td>\n",
       "    </tr>\n",
       "    <tr>\n",
       "      <th>1</th>\n",
       "      <td>20</td>\n",
       "      <td>0.9499</td>\n",
       "      <td>0.8192</td>\n",
       "    </tr>\n",
       "    <tr>\n",
       "      <th>2</th>\n",
       "      <td>30</td>\n",
       "      <td>0.9690</td>\n",
       "      <td>0.8508</td>\n",
       "    </tr>\n",
       "    <tr>\n",
       "      <th>3</th>\n",
       "      <td>40</td>\n",
       "      <td>0.9743</td>\n",
       "      <td>0.8646</td>\n",
       "    </tr>\n",
       "    <tr>\n",
       "      <th>4</th>\n",
       "      <td>50</td>\n",
       "      <td>0.9823</td>\n",
       "      <td>0.8768</td>\n",
       "    </tr>\n",
       "  </tbody>\n",
       "</table>\n",
       "</div>"
      ],
      "text/plain": [
       "    N  Average ESE Null  Average ESE Regression\n",
       "0  10            0.8956                  0.7272\n",
       "1  20            0.9499                  0.8192\n",
       "2  30            0.9690                  0.8508\n",
       "3  40            0.9743                  0.8646\n",
       "4  50            0.9823                  0.8768"
      ]
     },
     "execution_count": 64,
     "metadata": {},
     "output_type": "execute_result"
    }
   ],
   "source": [
    "n_values = np.arange(10, 60, 10)\n",
    "results = []\n",
    "for N in n_values:\n",
    "    avg_ese_null, avg_ese_regression = calculate_ese(rho, N)\n",
    "    results.append((N, avg_ese_null, avg_ese_regression))\n",
    "\n",
    "df_ese = pd.DataFrame(results, columns=['N', 'Average ESE Null', 'Average ESE Regression'])\n",
    "df_ese"
   ]
  },
  {
   "cell_type": "markdown",
   "metadata": {},
   "source": [
    "I would expect the error to get better as sample size increases but it seems to get worse. Not entirely sure why this is the case."
   ]
  }
 ],
 "metadata": {
  "kernelspec": {
   "display_name": "base",
   "language": "python",
   "name": "python3"
  },
  "language_info": {
   "codemirror_mode": {
    "name": "ipython",
    "version": 3
   },
   "file_extension": ".py",
   "mimetype": "text/x-python",
   "name": "python",
   "nbconvert_exporter": "python",
   "pygments_lexer": "ipython3",
   "version": "3.11.7"
  }
 },
 "nbformat": 4,
 "nbformat_minor": 2
}
