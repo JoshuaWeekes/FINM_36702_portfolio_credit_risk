{
 "cells": [
  {
   "cell_type": "code",
   "execution_count": 53,
   "metadata": {},
   "outputs": [],
   "source": [
    "import random\n",
    "import pandas as pd\n",
    "import numpy as np\n",
    "import matplotlib.pyplot as plt\n",
    "import statsmodels.api as sm\n",
    "from scipy.stats import multivariate_normal\n",
    "from scipy.stats import norm\n",
    "\n",
    "np.random.seed(99)"
   ]
  },
  {
   "cell_type": "markdown",
   "metadata": {},
   "source": [
    "## Problem 1"
   ]
  },
  {
   "cell_type": "code",
   "execution_count": 67,
   "metadata": {},
   "outputs": [
    {
     "data": {
      "text/plain": [
       "array([0.5, 0.4, 0.3, 0.2, 0.1])"
      ]
     },
     "execution_count": 67,
     "metadata": {},
     "output_type": "execute_result"
    }
   ],
   "source": [
    "simulations = 10000\n",
    "pd.set_option('display.float_format', lambda x: '%.4f' % x)\n",
    "\n",
    "corr_matrix = np.eye(5)\n",
    "# fill 1st column and first row with .05-.2 with a step of .05\n",
    "for i in range(1, 5):\n",
    "    corr_matrix[0, i] = corr_matrix[i, 0] = .05 * i\n",
    "\n",
    "for i in range(2, 5):\n",
    "    corr_matrix[1, i] = corr_matrix[i, 1] = .15 + .05 * i\n",
    "\n",
    "for i in range(3, 5):\n",
    "    corr_matrix[2, i] = corr_matrix[i, 2] = .25 + .05 * i\n",
    "\n",
    "corr_matrix[3, 4] = corr_matrix[4, 3] = .5\n",
    "comp_corr_matrix = np.eye(5)\n",
    "\n",
    "mean = np.zeros(5)\n",
    "\n",
    "cov_matrix = np.dot(np.dot(np.eye(5), corr_matrix), np.eye(5))\n",
    "comp_cov_matrix = np.dot(np.dot(np.eye(5), comp_corr_matrix), np.eye(5))\n",
    "\n",
    "prob_default = np.arange(0.1, 0.6, 0.1)\n",
    "prob_default[::] = prob_default[::-1]\n",
    "\n",
    "prob_default"
   ]
  },
  {
   "cell_type": "code",
   "execution_count": 54,
   "metadata": {},
   "outputs": [
    {
     "data": {
      "text/plain": [
       "array([[ 1.84560957, -0.58894608, -0.98595586,  0.63440523,  0.36195295],\n",
       "       [ 0.69760566,  0.17125337, -0.73713171, -0.96171351,  1.34141219],\n",
       "       [ 0.66340545, -0.14634101, -0.1651917 ,  0.42907001,  0.041261  ],\n",
       "       ...,\n",
       "       [ 0.71223177, -0.23430259, -0.79931654,  0.13785999, -0.45890227],\n",
       "       [ 1.20000254,  0.35894556,  0.93042362,  0.65998035, -0.24160086],\n",
       "       [ 1.75637436,  0.66848911,  0.23093716,  0.0993917 ,  0.90815346]])"
      ]
     },
     "execution_count": 54,
     "metadata": {},
     "output_type": "execute_result"
    }
   ],
   "source": [
    "correlated_simulation = multivariate_normal.rvs(mean=mean, cov=cov_matrix, size=simulations)\n",
    "simulation = multivariate_normal.rvs(mean=mean, cov=comp_cov_matrix, size=simulations)\n",
    "correlated_simulation\n",
    "# simulation"
   ]
  },
  {
   "cell_type": "code",
   "execution_count": 55,
   "metadata": {},
   "outputs": [],
   "source": [
    "simulation_percentiles = norm.cdf(correlated_simulation)\n",
    "comp_simulation_percentiles = norm.cdf(simulation)"
   ]
  },
  {
   "cell_type": "code",
   "execution_count": 57,
   "metadata": {},
   "outputs": [
    {
     "data": {
      "text/plain": [
       "array([[0., 1., 1., 0., 0.],\n",
       "       [0., 0., 1., 1., 0.],\n",
       "       [0., 0., 0., 0., 0.],\n",
       "       ...,\n",
       "       [0., 0., 1., 0., 0.],\n",
       "       [0., 0., 0., 0., 0.],\n",
       "       [0., 0., 0., 0., 0.]])"
      ]
     },
     "execution_count": 57,
     "metadata": {},
     "output_type": "execute_result"
    }
   ],
   "source": [
    "default = np.zeros((simulations, 5))\n",
    "comp_default = np.zeros((simulations, 5))\n",
    "\n",
    "for i in range(simulation.shape[0]):\n",
    "    for j in range(simulation.shape[1]):\n",
    "        default[i, j] = 1 if simulation_percentiles[i, j] < prob_default[j] else 0\n",
    "        comp_default[i, j] = 1 if comp_simulation_percentiles[i, j] < prob_default[j] else 0\n",
    "\n",
    "default"
   ]
  },
  {
   "cell_type": "code",
   "execution_count": 63,
   "metadata": {},
   "outputs": [
    {
     "data": {
      "text/plain": [
       "array([0.49997696, 0.48963079, 0.4561775 , 0.40208477, 0.30277977])"
      ]
     },
     "execution_count": 63,
     "metadata": {},
     "output_type": "execute_result"
    }
   ],
   "source": [
    "default.std(axis=0).T"
   ]
  },
  {
   "cell_type": "code",
   "execution_count": 68,
   "metadata": {},
   "outputs": [
    {
     "data": {
      "text/html": [
       "<div>\n",
       "<style scoped>\n",
       "    .dataframe tbody tr th:only-of-type {\n",
       "        vertical-align: middle;\n",
       "    }\n",
       "\n",
       "    .dataframe tbody tr th {\n",
       "        vertical-align: top;\n",
       "    }\n",
       "\n",
       "    .dataframe thead th {\n",
       "        text-align: right;\n",
       "    }\n",
       "</style>\n",
       "<table border=\"1\" class=\"dataframe\">\n",
       "  <thead>\n",
       "    <tr style=\"text-align: right;\">\n",
       "      <th></th>\n",
       "      <th>Firm 1</th>\n",
       "      <th>Firm 2</th>\n",
       "      <th>Firm 3</th>\n",
       "      <th>Firm 4</th>\n",
       "      <th>Firm 5</th>\n",
       "    </tr>\n",
       "  </thead>\n",
       "  <tbody>\n",
       "    <tr>\n",
       "      <th>Correlated Default</th>\n",
       "      <td>0.5000</td>\n",
       "      <td>0.4896</td>\n",
       "      <td>0.4562</td>\n",
       "      <td>0.4021</td>\n",
       "      <td>0.3028</td>\n",
       "    </tr>\n",
       "    <tr>\n",
       "      <th>Uncorrelated Default</th>\n",
       "      <td>0.5000</td>\n",
       "      <td>0.4894</td>\n",
       "      <td>0.4586</td>\n",
       "      <td>0.4008</td>\n",
       "      <td>0.2987</td>\n",
       "    </tr>\n",
       "  </tbody>\n",
       "</table>\n",
       "</div>"
      ],
      "text/plain": [
       "                      Firm 1  Firm 2  Firm 3  Firm 4  Firm 5\n",
       "Correlated Default    0.5000  0.4896  0.4562  0.4021  0.3028\n",
       "Uncorrelated Default  0.5000  0.4894  0.4586  0.4008  0.2987"
      ]
     },
     "execution_count": 68,
     "metadata": {},
     "output_type": "execute_result"
    }
   ],
   "source": [
    "default_labels = ['Correlated Default', 'Uncorrelated Default']\n",
    "firm_labels = ['Firm 1', 'Firm 2', 'Firm 3', 'Firm 4', 'Firm 5']\n",
    "default.std(axis=0)\n",
    "comp_default.std(axis=0)\n",
    "\n",
    "default_df = pd.DataFrame([default.std(axis=0), comp_default.std(axis=0)], columns=firm_labels, index=default_labels)\n",
    "default_df"
   ]
  },
  {
   "cell_type": "code",
   "execution_count": null,
   "metadata": {},
   "outputs": [],
   "source": []
  }
 ],
 "metadata": {
  "kernelspec": {
   "display_name": "base",
   "language": "python",
   "name": "python3"
  },
  "language_info": {
   "codemirror_mode": {
    "name": "ipython",
    "version": 3
   },
   "file_extension": ".py",
   "mimetype": "text/x-python",
   "name": "python",
   "nbconvert_exporter": "python",
   "pygments_lexer": "ipython3",
   "version": "3.11.7"
  }
 },
 "nbformat": 4,
 "nbformat_minor": 2
}
